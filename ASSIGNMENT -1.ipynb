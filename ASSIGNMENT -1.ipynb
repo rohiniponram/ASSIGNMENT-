{
 "cells": [
  {
   "cell_type": "raw",
   "id": "efa4cb6d",
   "metadata": {},
   "source": [
    "1. In the below elements which of them are values or an expression? eg:- values can be integer or string and expressions will be mathematical operators.\n",
    "\n",
    "Ans:\n",
    "\n",
    "Expression------> *, -, /, +\n",
    "Values----------> 6, -87.8, 'hello'"
   ]
  },
  {
   "cell_type": "raw",
   "id": "ff936349",
   "metadata": {},
   "source": [
    "2. What is the difference between string and variable?\n",
    "\n",
    "Ans:\n",
    "\n",
    "Variable---> A variable is a store of information.\n",
    "     Eg: String x = \"hello\"\n",
    "          x is the variable and we declared it as a string.\n",
    "\n",
    "String----> A string is a type of information that   would store in a variable.\n",
    "       A string is usually words enclosed with \" \"."
   ]
  },
  {
   "cell_type": "raw",
   "id": "8a349837",
   "metadata": {},
   "source": [
    "3. Describe three different data types.\n",
    "\n",
    "Ans:\n",
    "\n",
    "    1.integer----> integer can store only numerical values.\n",
    "    2.list-------> the list is used for storing multiple data items in a single variable.\n",
    "    3.float------>float can store only floating values like 66.6,98.5."
   ]
  },
  {
   "cell_type": "raw",
   "id": "23492ff8",
   "metadata": {},
   "source": [
    "4. What is an expression made up of? What do all expressions do?\n",
    "\n",
    "Ans:\n",
    "      An Expression is made up of values,operator and containers.\n",
    "       Eg: a = 3 + 5 and  an expression are used to evaluvate the values."
   ]
  },
  {
   "cell_type": "raw",
   "id": "b3133d3b",
   "metadata": {},
   "source": [
    "5. This assignment statements, like spam = 10. What is the difference between an expression and a statement?\n",
    "\n",
    "Ans:\n",
    "      An Expression is made up of values,operators and cotainers and the statement is like a command."
   ]
  },
  {
   "cell_type": "raw",
   "id": "44cd5ab6",
   "metadata": {},
   "source": [
    "6. After running the following code, what does the variable bacon contain?\n",
    "bacon = 22\n",
    "bacon + 1\n",
    "\n",
    "Ans:\n",
    "      It gives 23 as a execution code."
   ]
  },
  {
   "cell_type": "code",
   "execution_count": 1,
   "id": "ae16fe9b",
   "metadata": {},
   "outputs": [
    {
     "data": {
      "text/plain": [
       "23"
      ]
     },
     "execution_count": 1,
     "metadata": {},
     "output_type": "execute_result"
    }
   ],
   "source": [
    "bacon = 22\n",
    "bacon + 1"
   ]
  },
  {
   "cell_type": "raw",
   "id": "28d0eebb",
   "metadata": {},
   "source": [
    "7. What should the values of the following two terms be?\n",
    "'spam' + 'spamspam'\n",
    "'spam' * 3\n",
    " \n",
    " Ans:\n",
    "        It gives the same answer for both in execution code"
   ]
  },
  {
   "cell_type": "code",
   "execution_count": 2,
   "id": "468f0cd0",
   "metadata": {},
   "outputs": [
    {
     "data": {
      "text/plain": [
       "'spamspamsapam'"
      ]
     },
     "execution_count": 2,
     "metadata": {},
     "output_type": "execute_result"
    }
   ],
   "source": [
    "'spam' + 'spamsapam'"
   ]
  },
  {
   "cell_type": "code",
   "execution_count": 3,
   "id": "120bfbad",
   "metadata": {},
   "outputs": [
    {
     "data": {
      "text/plain": [
       "'spamspamspam'"
      ]
     },
     "execution_count": 3,
     "metadata": {},
     "output_type": "execute_result"
    }
   ],
   "source": [
    "'spam' * 3"
   ]
  },
  {
   "cell_type": "raw",
   "id": "2eec1444",
   "metadata": {},
   "source": [
    "8. Why is eggs a valid variable name while 100 is invalid?\n",
    " Ans:\n",
    "        Because we can not start giving variable an integer name.if we, we should begin with a string like alphabet name then integer.\n",
    "       Eg:e100 or eggs100 is valid. "
   ]
  },
  {
   "cell_type": "raw",
   "id": "07082843",
   "metadata": {},
   "source": [
    "9. What three functions can be used to get the integer, floating-point number, or string version of a value?\n",
    "\n",
    "Ans:\n",
    "      1.int()\n",
    "      2.float()\n",
    "      3.str()"
   ]
  },
  {
   "cell_type": "raw",
   "id": "91f08420",
   "metadata": {},
   "source": [
    "10. Why does this expression cause an error? How can you fix it?\n",
    "'I have eaten ' + 99 + ' burritos.'\n",
    "\n",
    "Ans:\n",
    "     Beacuse 99 is an integer it cannot  be concatenated with string.if we have to concatenate means we have rewrite this expression as 'i have to eaten' + '99' + 'burriots.'"
   ]
  },
  {
   "cell_type": "code",
   "execution_count": 6,
   "id": "9e796d0c",
   "metadata": {},
   "outputs": [
    {
     "data": {
      "text/plain": [
       "'i have to eaten99burriots.'"
      ]
     },
     "execution_count": 6,
     "metadata": {},
     "output_type": "execute_result"
    }
   ],
   "source": [
    "'i have to eaten' + '99' + 'burriots.'"
   ]
  }
 ],
 "metadata": {
  "kernelspec": {
   "display_name": "Python 3 (ipykernel)",
   "language": "python",
   "name": "python3"
  },
  "language_info": {
   "codemirror_mode": {
    "name": "ipython",
    "version": 3
   },
   "file_extension": ".py",
   "mimetype": "text/x-python",
   "name": "python",
   "nbconvert_exporter": "python",
   "pygments_lexer": "ipython3",
   "version": "3.9.7"
  }
 },
 "nbformat": 4,
 "nbformat_minor": 5
}
